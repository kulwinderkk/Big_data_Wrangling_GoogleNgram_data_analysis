{
 "cells": [
  {
   "cell_type": "markdown",
   "id": "140ce694",
   "metadata": {},
   "source": [
    "# Reading data from S3 bucket on local machine using boto"
   ]
  },
  {
   "cell_type": "markdown",
   "id": "07b3f21f",
   "metadata": {},
   "source": [
    "Before working on this notebook we have already authenticated using AWS security key and access id on our git bash command prompt.\n",
    "\n",
    "Firstly, activated the conda cloud_lab.\n",
    "\n",
    "Secondly, typed aws configure and authenticated by providing access key and secutity key which we gathered from the security credentials page of our AWS account."
   ]
  },
  {
   "cell_type": "code",
   "execution_count": 42,
   "id": "9bdfe7ea",
   "metadata": {},
   "outputs": [],
   "source": [
    "#importing necessary libraries\n",
    "import boto3\n",
    "import pandas as pd\n",
    "import matplotlib.pyplot as plt"
   ]
  },
  {
   "cell_type": "markdown",
   "id": "533f4735",
   "metadata": {},
   "source": [
    "We have imported the boto3 library and have chosen the cloud lab environment where we had already installed boto.\n",
    "\n",
    "Boto3 makes it easy to integrate Python application, library, or script with AWS services including Amazon S3, Amazon EC2, Amazon DynamoDB, and more. In this notebook, we will be accessing the csv file that we saved in our amazon s3 bucket.\n",
    "\n",
    "We will be starting with instantiating a boto client."
   ]
  },
  {
   "cell_type": "code",
   "execution_count": 68,
   "id": "aac6f148",
   "metadata": {
    "scrolled": true
   },
   "outputs": [
    {
     "data": {
      "text/plain": [
       "<botocore.client.S3 at 0x2166f016f70>"
      ]
     },
     "execution_count": 68,
     "metadata": {},
     "output_type": "execute_result"
    }
   ],
   "source": [
    "# Instantiate an S3 client\n",
    "s3_client = boto3.client('s3')\n",
    "\n",
    "# Check\n",
    "s3_client"
   ]
  },
  {
   "cell_type": "markdown",
   "id": "3de0fd5d",
   "metadata": {},
   "source": [
    "Taking the file from the specific s3 bucket."
   ]
  },
  {
   "cell_type": "code",
   "execution_count": 69,
   "id": "ab183b36",
   "metadata": {
    "scrolled": false
   },
   "outputs": [
    {
     "data": {
      "text/plain": [
       "{'ResponseMetadata': {'RequestId': '21SZ8Q8R7FJTMAVM',\n",
       "  'HostId': '/Xk8XV7eojEfkKXmFmEQxCE59ScDo8kZcMkKuIK5qC6jGAkicBeZN+cfmuztozTfZyQLnBDSi8o=',\n",
       "  'HTTPStatusCode': 200,\n",
       "  'HTTPHeaders': {'x-amz-id-2': '/Xk8XV7eojEfkKXmFmEQxCE59ScDo8kZcMkKuIK5qC6jGAkicBeZN+cfmuztozTfZyQLnBDSi8o=',\n",
       "   'x-amz-request-id': '21SZ8Q8R7FJTMAVM',\n",
       "   'date': 'Mon, 06 Feb 2023 01:01:13 GMT',\n",
       "   'last-modified': 'Sun, 05 Feb 2023 23:44:34 GMT',\n",
       "   'etag': '\"fb3cf3d45b1fc32b939cbd13697dbe68\"',\n",
       "   'x-amz-server-side-encryption': 'AES256',\n",
       "   'accept-ranges': 'bytes',\n",
       "   'content-type': 'text/csv',\n",
       "   'server': 'AmazonS3',\n",
       "   'content-length': '7338'},\n",
       "  'RetryAttempts': 0},\n",
       " 'AcceptRanges': 'bytes',\n",
       " 'LastModified': datetime.datetime(2023, 2, 5, 23, 44, 34, tzinfo=tzutc()),\n",
       " 'ContentLength': 7338,\n",
       " 'ETag': '\"fb3cf3d45b1fc32b939cbd13697dbe68\"',\n",
       " 'ContentType': 'text/csv',\n",
       " 'ServerSideEncryption': 'AES256',\n",
       " 'Metadata': {},\n",
       " 'Body': <botocore.response.StreamingBody at 0x2166f0a56d0>}"
      ]
     },
     "execution_count": 69,
     "metadata": {},
     "output_type": "execute_result"
    }
   ],
   "source": [
    "# Get the specified file from the specified bucket and assign it to a variable\n",
    "s3_object = s3_client.get_object(Bucket='kk-bstn-bucket-jan30', Key='merged_file.csv')\n",
    "\n",
    "# Check\n",
    "s3_object"
   ]
  },
  {
   "cell_type": "code",
   "execution_count": 70,
   "id": "25cf389b",
   "metadata": {},
   "outputs": [
    {
     "data": {
      "text/plain": [
       "botocore.response.StreamingBody"
      ]
     },
     "execution_count": 70,
     "metadata": {},
     "output_type": "execute_result"
    }
   ],
   "source": [
    "type(s3_object['Body'])"
   ]
  },
  {
   "cell_type": "code",
   "execution_count": 71,
   "id": "1ecf8f35",
   "metadata": {
    "scrolled": true
   },
   "outputs": [
    {
     "data": {
      "text/html": [
       "<div>\n",
       "<style scoped>\n",
       "    .dataframe tbody tr th:only-of-type {\n",
       "        vertical-align: middle;\n",
       "    }\n",
       "\n",
       "    .dataframe tbody tr th {\n",
       "        vertical-align: top;\n",
       "    }\n",
       "\n",
       "    .dataframe thead th {\n",
       "        text-align: right;\n",
       "    }\n",
       "</style>\n",
       "<table border=\"1\" class=\"dataframe\">\n",
       "  <thead>\n",
       "    <tr style=\"text-align: right;\">\n",
       "      <th></th>\n",
       "      <th>token</th>\n",
       "      <th>year</th>\n",
       "      <th>frequency</th>\n",
       "      <th>pages</th>\n",
       "      <th>books</th>\n",
       "    </tr>\n",
       "  </thead>\n",
       "  <tbody>\n",
       "    <tr>\n",
       "      <th>0</th>\n",
       "      <td>token</td>\n",
       "      <td>year</td>\n",
       "      <td>frequency</td>\n",
       "      <td>pages</td>\n",
       "      <td>books</td>\n",
       "    </tr>\n",
       "    <tr>\n",
       "      <th>1</th>\n",
       "      <td>data</td>\n",
       "      <td>1584</td>\n",
       "      <td>16</td>\n",
       "      <td>14</td>\n",
       "      <td>1</td>\n",
       "    </tr>\n",
       "    <tr>\n",
       "      <th>2</th>\n",
       "      <td>data</td>\n",
       "      <td>1614</td>\n",
       "      <td>3</td>\n",
       "      <td>2</td>\n",
       "      <td>1</td>\n",
       "    </tr>\n",
       "    <tr>\n",
       "      <th>3</th>\n",
       "      <td>data</td>\n",
       "      <td>1627</td>\n",
       "      <td>1</td>\n",
       "      <td>1</td>\n",
       "      <td>1</td>\n",
       "    </tr>\n",
       "    <tr>\n",
       "      <th>4</th>\n",
       "      <td>data</td>\n",
       "      <td>1631</td>\n",
       "      <td>22</td>\n",
       "      <td>18</td>\n",
       "      <td>1</td>\n",
       "    </tr>\n",
       "    <tr>\n",
       "      <th>...</th>\n",
       "      <td>...</td>\n",
       "      <td>...</td>\n",
       "      <td>...</td>\n",
       "      <td>...</td>\n",
       "      <td>...</td>\n",
       "    </tr>\n",
       "    <tr>\n",
       "      <th>312</th>\n",
       "      <td>data</td>\n",
       "      <td>2004</td>\n",
       "      <td>201841</td>\n",
       "      <td>93539</td>\n",
       "      <td>3483</td>\n",
       "    </tr>\n",
       "    <tr>\n",
       "      <th>313</th>\n",
       "      <td>data</td>\n",
       "      <td>2005</td>\n",
       "      <td>197467</td>\n",
       "      <td>88901</td>\n",
       "      <td>3392</td>\n",
       "    </tr>\n",
       "    <tr>\n",
       "      <th>314</th>\n",
       "      <td>data</td>\n",
       "      <td>2006</td>\n",
       "      <td>203669</td>\n",
       "      <td>92960</td>\n",
       "      <td>3449</td>\n",
       "    </tr>\n",
       "    <tr>\n",
       "      <th>315</th>\n",
       "      <td>data</td>\n",
       "      <td>2007</td>\n",
       "      <td>168338</td>\n",
       "      <td>78986</td>\n",
       "      <td>3246</td>\n",
       "    </tr>\n",
       "    <tr>\n",
       "      <th>316</th>\n",
       "      <td>data</td>\n",
       "      <td>2008</td>\n",
       "      <td>105331</td>\n",
       "      <td>47811</td>\n",
       "      <td>2358</td>\n",
       "    </tr>\n",
       "  </tbody>\n",
       "</table>\n",
       "<p>317 rows × 5 columns</p>\n",
       "</div>"
      ],
      "text/plain": [
       "     token  year  frequency  pages  books\n",
       "0    token  year  frequency  pages  books\n",
       "1     data  1584         16     14      1\n",
       "2     data  1614          3      2      1\n",
       "3     data  1627          1      1      1\n",
       "4     data  1631         22     18      1\n",
       "..     ...   ...        ...    ...    ...\n",
       "312   data  2004     201841  93539   3483\n",
       "313   data  2005     197467  88901   3392\n",
       "314   data  2006     203669  92960   3449\n",
       "315   data  2007     168338  78986   3246\n",
       "316   data  2008     105331  47811   2358\n",
       "\n",
       "[317 rows x 5 columns]"
      ]
     },
     "execution_count": 71,
     "metadata": {},
     "output_type": "execute_result"
    }
   ],
   "source": [
    "# Read the csv into a dataframe; note that we pass in the 'StreamingBody' above\n",
    "s3_df = pd.read_csv(s3_object['Body'])\n",
    "\n",
    "# Check\n",
    "s3_df"
   ]
  },
  {
   "cell_type": "markdown",
   "id": "cbf64696",
   "metadata": {},
   "source": [
    "The first row is same as the column heading. We will remove it."
   ]
  },
  {
   "cell_type": "code",
   "execution_count": 72,
   "id": "a3e6c79b",
   "metadata": {},
   "outputs": [],
   "source": [
    "#removing the first row\n",
    "s3_df= s3_df.iloc[1:, :]"
   ]
  },
  {
   "cell_type": "code",
   "execution_count": 73,
   "id": "0f03d651",
   "metadata": {},
   "outputs": [
    {
     "data": {
      "text/html": [
       "<div>\n",
       "<style scoped>\n",
       "    .dataframe tbody tr th:only-of-type {\n",
       "        vertical-align: middle;\n",
       "    }\n",
       "\n",
       "    .dataframe tbody tr th {\n",
       "        vertical-align: top;\n",
       "    }\n",
       "\n",
       "    .dataframe thead th {\n",
       "        text-align: right;\n",
       "    }\n",
       "</style>\n",
       "<table border=\"1\" class=\"dataframe\">\n",
       "  <thead>\n",
       "    <tr style=\"text-align: right;\">\n",
       "      <th></th>\n",
       "      <th>index</th>\n",
       "      <th>token</th>\n",
       "      <th>year</th>\n",
       "      <th>frequency</th>\n",
       "      <th>pages</th>\n",
       "      <th>books</th>\n",
       "    </tr>\n",
       "  </thead>\n",
       "  <tbody>\n",
       "    <tr>\n",
       "      <th>0</th>\n",
       "      <td>1</td>\n",
       "      <td>data</td>\n",
       "      <td>1584</td>\n",
       "      <td>16</td>\n",
       "      <td>14</td>\n",
       "      <td>1</td>\n",
       "    </tr>\n",
       "    <tr>\n",
       "      <th>1</th>\n",
       "      <td>2</td>\n",
       "      <td>data</td>\n",
       "      <td>1614</td>\n",
       "      <td>3</td>\n",
       "      <td>2</td>\n",
       "      <td>1</td>\n",
       "    </tr>\n",
       "    <tr>\n",
       "      <th>2</th>\n",
       "      <td>3</td>\n",
       "      <td>data</td>\n",
       "      <td>1627</td>\n",
       "      <td>1</td>\n",
       "      <td>1</td>\n",
       "      <td>1</td>\n",
       "    </tr>\n",
       "    <tr>\n",
       "      <th>3</th>\n",
       "      <td>4</td>\n",
       "      <td>data</td>\n",
       "      <td>1631</td>\n",
       "      <td>22</td>\n",
       "      <td>18</td>\n",
       "      <td>1</td>\n",
       "    </tr>\n",
       "    <tr>\n",
       "      <th>4</th>\n",
       "      <td>5</td>\n",
       "      <td>data</td>\n",
       "      <td>1637</td>\n",
       "      <td>1</td>\n",
       "      <td>1</td>\n",
       "      <td>1</td>\n",
       "    </tr>\n",
       "  </tbody>\n",
       "</table>\n",
       "</div>"
      ],
      "text/plain": [
       "   index token  year frequency pages books\n",
       "0      1  data  1584        16    14     1\n",
       "1      2  data  1614         3     2     1\n",
       "2      3  data  1627         1     1     1\n",
       "3      4  data  1631        22    18     1\n",
       "4      5  data  1637         1     1     1"
      ]
     },
     "execution_count": 73,
     "metadata": {},
     "output_type": "execute_result"
    }
   ],
   "source": [
    "#resetting index\n",
    "s3_df.head().reset_index()"
   ]
  },
  {
   "cell_type": "code",
   "execution_count": 74,
   "id": "b8a7e5ef",
   "metadata": {
    "scrolled": false
   },
   "outputs": [
    {
     "name": "stdout",
     "output_type": "stream",
     "text": [
      "<class 'pandas.core.frame.DataFrame'>\n",
      "RangeIndex: 316 entries, 1 to 316\n",
      "Data columns (total 5 columns):\n",
      " #   Column     Non-Null Count  Dtype \n",
      "---  ------     --------------  ----- \n",
      " 0   token      316 non-null    object\n",
      " 1   year       316 non-null    object\n",
      " 2   frequency  316 non-null    object\n",
      " 3   pages      316 non-null    object\n",
      " 4   books      316 non-null    object\n",
      "dtypes: object(5)\n",
      "memory usage: 12.5+ KB\n"
     ]
    }
   ],
   "source": [
    "#quick overview\n",
    "s3_df.info()"
   ]
  },
  {
   "cell_type": "markdown",
   "id": "7fc9e13e",
   "metadata": {},
   "source": [
    "The columns year, frequncey, pages, books need to be corrected to right format."
   ]
  },
  {
   "cell_type": "code",
   "execution_count": 78,
   "id": "bef0b078",
   "metadata": {
    "scrolled": false
   },
   "outputs": [
    {
     "name": "stderr",
     "output_type": "stream",
     "text": [
      "C:\\Users\\Soniye\\AppData\\Local\\Temp\\ipykernel_14416\\3570885124.py:2: SettingWithCopyWarning: \n",
      "A value is trying to be set on a copy of a slice from a DataFrame.\n",
      "Try using .loc[row_indexer,col_indexer] = value instead\n",
      "\n",
      "See the caveats in the documentation: https://pandas.pydata.org/pandas-docs/stable/user_guide/indexing.html#returning-a-view-versus-a-copy\n",
      "  s3_df['year']=s3_df['year'].astype('int32')\n",
      "C:\\Users\\Soniye\\AppData\\Local\\Temp\\ipykernel_14416\\3570885124.py:3: SettingWithCopyWarning: \n",
      "A value is trying to be set on a copy of a slice from a DataFrame.\n",
      "Try using .loc[row_indexer,col_indexer] = value instead\n",
      "\n",
      "See the caveats in the documentation: https://pandas.pydata.org/pandas-docs/stable/user_guide/indexing.html#returning-a-view-versus-a-copy\n",
      "  s3_df['frequency']=s3_df['frequency'].astype('int32')\n",
      "C:\\Users\\Soniye\\AppData\\Local\\Temp\\ipykernel_14416\\3570885124.py:4: SettingWithCopyWarning: \n",
      "A value is trying to be set on a copy of a slice from a DataFrame.\n",
      "Try using .loc[row_indexer,col_indexer] = value instead\n",
      "\n",
      "See the caveats in the documentation: https://pandas.pydata.org/pandas-docs/stable/user_guide/indexing.html#returning-a-view-versus-a-copy\n",
      "  s3_df['pages']=s3_df['pages'].astype('int32')\n",
      "C:\\Users\\Soniye\\AppData\\Local\\Temp\\ipykernel_14416\\3570885124.py:5: SettingWithCopyWarning: \n",
      "A value is trying to be set on a copy of a slice from a DataFrame.\n",
      "Try using .loc[row_indexer,col_indexer] = value instead\n",
      "\n",
      "See the caveats in the documentation: https://pandas.pydata.org/pandas-docs/stable/user_guide/indexing.html#returning-a-view-versus-a-copy\n",
      "  s3_df['books']=s3_df['books'].astype('int32')\n"
     ]
    }
   ],
   "source": [
    "#convert to correct type\n",
    "s3_df['year']=s3_df['year'].astype('int32')\n",
    "s3_df['frequency']=s3_df['frequency'].astype('int32')\n",
    "s3_df['pages']=s3_df['pages'].astype('int32')\n",
    "s3_df['books']=s3_df['books'].astype('int32')"
   ]
  },
  {
   "cell_type": "code",
   "execution_count": 79,
   "id": "828d1d39",
   "metadata": {},
   "outputs": [
    {
     "name": "stdout",
     "output_type": "stream",
     "text": [
      "<class 'pandas.core.frame.DataFrame'>\n",
      "RangeIndex: 316 entries, 1 to 316\n",
      "Data columns (total 5 columns):\n",
      " #   Column     Non-Null Count  Dtype \n",
      "---  ------     --------------  ----- \n",
      " 0   token      316 non-null    object\n",
      " 1   year       316 non-null    int32 \n",
      " 2   frequency  316 non-null    int32 \n",
      " 3   pages      316 non-null    int32 \n",
      " 4   books      316 non-null    int32 \n",
      "dtypes: int32(4), object(1)\n",
      "memory usage: 7.5+ KB\n"
     ]
    }
   ],
   "source": [
    "s3_df.info()"
   ]
  },
  {
   "cell_type": "code",
   "execution_count": 34,
   "id": "d3f70179",
   "metadata": {
    "scrolled": true
   },
   "outputs": [
    {
     "data": {
      "text/plain": [
       "316"
      ]
     },
     "execution_count": 34,
     "metadata": {},
     "output_type": "execute_result"
    }
   ],
   "source": [
    "s3_df['year'].nunique()"
   ]
  },
  {
   "cell_type": "markdown",
   "id": "01ceac07",
   "metadata": {},
   "source": [
    "We have 316 rows with 316 unique year data."
   ]
  },
  {
   "cell_type": "code",
   "execution_count": 80,
   "id": "52c17b72",
   "metadata": {},
   "outputs": [
    {
     "data": {
      "text/html": [
       "<div>\n",
       "<style scoped>\n",
       "    .dataframe tbody tr th:only-of-type {\n",
       "        vertical-align: middle;\n",
       "    }\n",
       "\n",
       "    .dataframe tbody tr th {\n",
       "        vertical-align: top;\n",
       "    }\n",
       "\n",
       "    .dataframe thead th {\n",
       "        text-align: right;\n",
       "    }\n",
       "</style>\n",
       "<table border=\"1\" class=\"dataframe\">\n",
       "  <thead>\n",
       "    <tr style=\"text-align: right;\">\n",
       "      <th></th>\n",
       "      <th>year</th>\n",
       "      <th>frequency</th>\n",
       "    </tr>\n",
       "  </thead>\n",
       "  <tbody>\n",
       "    <tr>\n",
       "      <th>count</th>\n",
       "      <td>316.000000</td>\n",
       "      <td>316.000000</td>\n",
       "    </tr>\n",
       "    <tr>\n",
       "      <th>mean</th>\n",
       "      <td>1847.569620</td>\n",
       "      <td>38555.993671</td>\n",
       "    </tr>\n",
       "    <tr>\n",
       "      <th>std</th>\n",
       "      <td>96.874382</td>\n",
       "      <td>69212.366418</td>\n",
       "    </tr>\n",
       "    <tr>\n",
       "      <th>min</th>\n",
       "      <td>1584.000000</td>\n",
       "      <td>1.000000</td>\n",
       "    </tr>\n",
       "    <tr>\n",
       "      <th>25%</th>\n",
       "      <td>1771.750000</td>\n",
       "      <td>20.750000</td>\n",
       "    </tr>\n",
       "    <tr>\n",
       "      <th>50%</th>\n",
       "      <td>1850.500000</td>\n",
       "      <td>3004.000000</td>\n",
       "    </tr>\n",
       "    <tr>\n",
       "      <th>75%</th>\n",
       "      <td>1929.250000</td>\n",
       "      <td>41776.750000</td>\n",
       "    </tr>\n",
       "    <tr>\n",
       "      <th>max</th>\n",
       "      <td>2008.000000</td>\n",
       "      <td>254561.000000</td>\n",
       "    </tr>\n",
       "  </tbody>\n",
       "</table>\n",
       "</div>"
      ],
      "text/plain": [
       "              year      frequency\n",
       "count   316.000000     316.000000\n",
       "mean   1847.569620   38555.993671\n",
       "std      96.874382   69212.366418\n",
       "min    1584.000000       1.000000\n",
       "25%    1771.750000      20.750000\n",
       "50%    1850.500000    3004.000000\n",
       "75%    1929.250000   41776.750000\n",
       "max    2008.000000  254561.000000"
      ]
     },
     "execution_count": 80,
     "metadata": {},
     "output_type": "execute_result"
    }
   ],
   "source": [
    "s3_df[['year', 'frequency']].describe()"
   ]
  },
  {
   "cell_type": "markdown",
   "id": "6d1362fd",
   "metadata": {},
   "source": [
    "Let us plot the frequency column and see its relationship with year."
   ]
  },
  {
   "cell_type": "code",
   "execution_count": 82,
   "id": "200433ae",
   "metadata": {
    "scrolled": false
   },
   "outputs": [
    {
     "data": {
      "image/png": "[encoded data removed]",
      "text/plain": [
       "<Figure size 1200x500 with 1 Axes>"
      ]
     },
     "metadata": {},
     "output_type": "display_data"
    }
   ],
   "source": [
    "plt.figure(figsize=(12, 5))\n",
    "plt.plot(s3_df['year'], s3_df['frequency'] )\n",
    "plt.title(\"Number of occurrences of the token data over the years\")\n",
    "plt.show()"
   ]
  },
  {
   "cell_type": "code",
   "execution_count": 83,
   "id": "37be1045",
   "metadata": {},
   "outputs": [
    {
     "data": {
      "text/html": [
       "<div>\n",
       "<style scoped>\n",
       "    .dataframe tbody tr th:only-of-type {\n",
       "        vertical-align: middle;\n",
       "    }\n",
       "\n",
       "    .dataframe tbody tr th {\n",
       "        vertical-align: top;\n",
       "    }\n",
       "\n",
       "    .dataframe thead th {\n",
       "        text-align: right;\n",
       "    }\n",
       "</style>\n",
       "<table border=\"1\" class=\"dataframe\">\n",
       "  <thead>\n",
       "    <tr style=\"text-align: right;\">\n",
       "      <th></th>\n",
       "      <th>token</th>\n",
       "      <th>year</th>\n",
       "      <th>frequency</th>\n",
       "      <th>pages</th>\n",
       "      <th>books</th>\n",
       "    </tr>\n",
       "  </thead>\n",
       "  <tbody>\n",
       "    <tr>\n",
       "      <th>312</th>\n",
       "      <td>data</td>\n",
       "      <td>2004</td>\n",
       "      <td>201841</td>\n",
       "      <td>93539</td>\n",
       "      <td>3483</td>\n",
       "    </tr>\n",
       "    <tr>\n",
       "      <th>313</th>\n",
       "      <td>data</td>\n",
       "      <td>2005</td>\n",
       "      <td>197467</td>\n",
       "      <td>88901</td>\n",
       "      <td>3392</td>\n",
       "    </tr>\n",
       "    <tr>\n",
       "      <th>314</th>\n",
       "      <td>data</td>\n",
       "      <td>2006</td>\n",
       "      <td>203669</td>\n",
       "      <td>92960</td>\n",
       "      <td>3449</td>\n",
       "    </tr>\n",
       "    <tr>\n",
       "      <th>315</th>\n",
       "      <td>data</td>\n",
       "      <td>2007</td>\n",
       "      <td>168338</td>\n",
       "      <td>78986</td>\n",
       "      <td>3246</td>\n",
       "    </tr>\n",
       "    <tr>\n",
       "      <th>316</th>\n",
       "      <td>data</td>\n",
       "      <td>2008</td>\n",
       "      <td>105331</td>\n",
       "      <td>47811</td>\n",
       "      <td>2358</td>\n",
       "    </tr>\n",
       "  </tbody>\n",
       "</table>\n",
       "</div>"
      ],
      "text/plain": [
       "    token  year  frequency  pages  books\n",
       "312  data  2004     201841  93539   3483\n",
       "313  data  2005     197467  88901   3392\n",
       "314  data  2006     203669  92960   3449\n",
       "315  data  2007     168338  78986   3246\n",
       "316  data  2008     105331  47811   2358"
      ]
     },
     "execution_count": 83,
     "metadata": {},
     "output_type": "execute_result"
    }
   ],
   "source": [
    "s3_df.tail()"
   ]
  },
  {
   "cell_type": "markdown",
   "id": "0867ebdd",
   "metadata": {},
   "source": [
    "At the starting year the search frequncy of token data was very less almost negligible and it started to rise after 1900.\n",
    "It is littel unclear as to why it is falling after 2000s when the word 'data' started becoming popular."
   ]
  },
  {
   "cell_type": "code",
   "execution_count": null,
   "id": "56216a0d",
   "metadata": {},
   "outputs": [],
   "source": []
  },
  {
   "cell_type": "code",
   "execution_count": null,
   "id": "0efbb4a9",
   "metadata": {},
   "outputs": [],
   "source": []
  }
 ],
 "metadata": {
  "kernelspec": {
   "display_name": "cloud_lab",
   "language": "python",
   "name": "cloud_lab"
  },
  "language_info": {
   "codemirror_mode": {
    "name": "ipython",
    "version": 3
   },
   "file_extension": ".py",
   "mimetype": "text/x-python",
   "name": "python",
   "nbconvert_exporter": "python",
   "pygments_lexer": "ipython3",
   "version": "3.8.16"
  }
 },
 "nbformat": 4,
 "nbformat_minor": 5
}
